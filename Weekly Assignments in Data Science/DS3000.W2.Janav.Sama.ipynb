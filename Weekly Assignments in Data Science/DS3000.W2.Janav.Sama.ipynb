{
 "cells": [
  {
   "cell_type": "markdown",
   "metadata": {},
   "source": [
    "# DS 3000 - Assignment 4 (Week 2)\n",
    "\n",
    "**Student Name**: Janav Sama\n",
    "\n",
    "**Date**: 05/14/2024\n",
    "\n",
    "\n",
    "### Submission Instructions\n",
    "Submit this `ipynb` file to canvas.\n",
    "\n",
    "The `ipynb` format stores outputs from the last time you ran the notebook.  (When you open a notebook it has the figures and outputs of the last time you ran it too).  To ensure that your submitted `ipynb` file represents your latest code, make sure to give a fresh run `Kernel > Restart & Run All` just before uploading the `ipynb` file to Canvas.\n",
    "\n",
    "### Academic Integrity\n",
    "\n",
    "**Writing your homework is an individual effort.**  You may discuss general python problems with other students but under no circumstances should you observe another student's code which was written for this assignment, from this year or past years.  Pop into office hours or DM us in MS Teams if you have a specific question about your work or if you would like another pair of eyes or talk through your code.\n",
    "\n",
    "Don't forget to cite websites which helped you solve a problem in a unique way.  You can do this in markdown near the code or with a simple one-line comment. You do not need to cite the official python documentation.\n",
    "\n",
    "**Documentation / style counts for credit**  Please refer to the Pep-8 style, to improve the readability and consistency of your Python code. For more information, read the following article [How to Write Beautiful Python Code With PEP 8](https://realpython.com/python-pep8/) or ask your TA's for tips.\n",
    "\n",
    "**NOTE:<span style='color:red'> Write python expressions to answer ALL questions below and ensure that you use the `print()` function to display the output.</span>** Each question should be answered in a new code cell. For example, your solution for question 1.1 should be in a different code cell from your solution for question 1.2."
   ]
  },
  {
   "cell_type": "markdown",
   "metadata": {},
   "source": [
    "## Data Science Problem (50 pts)\n",
    "### Instructions\n",
    "\n",
    "You are hired as a Data Scientist for the NYC Taxi and Limousine Commission (TLC) and this company routinely collects trip data from all licensed cabs in NY. Your team would like to use this data in the future to understand how New Yorkers use these taxis. Your first assignment is to **analyze the data of the Green Taxis, and determine if its a viable source.**\n",
    "\n",
    "Your supervisor has requested that you perform your analysis using data from February 2023 and would like for you to present your findings during the next team meeting. Use a Jupyter notebook to explain your data wrangling and analytical steps to your colleagues. \n",
    "\n",
    "**Data & Documentation**\n",
    "\n",
    "- **Data Source:** https://d37ci6vzurychx.cloudfront.net/trip-data/green_tripdata_2023-02.parquet\n",
    "- **Data Dictionary:** [Green Trips Data Dictionary](https://www1.nyc.gov/assets/tlc/downloads/pdf/data_dictionary_trip_records_green.pdf).\n",
    "\n",
    "The TLC trip record data and a description of the initiative can be found at the following link: https://www1.nyc.gov/site/tlc/about/tlc-trip-record-data.page\n",
    "\n",
    "**`Note:`** Ensure that you explain the results from each question.\n",
    "\n",
    "\n",
    "**In this assignment you will use the Pandas library. Pandas allows us to load data that's stored in a various formats, e.g. excel, csv, txt, parquet, etc. In this assignment, you will learn to read data in parquet format which is one of the preferred formats when working with `Big Data`. [Click here to learn more about parquet files](https://towardsdatascience.com/csv-files-for-storage-no-thanks-theres-a-better-option-72c78a414d1d)**\n",
    "\n",
    "I also provided starter code below to help you to read the data in parquet format. First, you'll need to install a new library called *fastparquet*."
   ]
  },
  {
   "cell_type": "code",
   "execution_count": 1,
   "metadata": {},
   "outputs": [
    {
     "name": "stdout",
     "output_type": "stream",
     "text": [
      "Requirement already satisfied: fastparquet in /Users/janavsama/anaconda3/envs/ds3000/lib/python3.12/site-packages (2024.2.0)\n",
      "Requirement already satisfied: pandas>=1.5.0 in /Users/janavsama/anaconda3/envs/ds3000/lib/python3.12/site-packages (from fastparquet) (2.2.2)\n",
      "Requirement already satisfied: numpy>=1.20.3 in /Users/janavsama/anaconda3/envs/ds3000/lib/python3.12/site-packages (from fastparquet) (1.26.4)\n",
      "Requirement already satisfied: cramjam>=2.3 in /Users/janavsama/anaconda3/envs/ds3000/lib/python3.12/site-packages (from fastparquet) (2.8.3)\n",
      "Requirement already satisfied: fsspec in /Users/janavsama/anaconda3/envs/ds3000/lib/python3.12/site-packages (from fastparquet) (2024.3.1)\n",
      "Requirement already satisfied: packaging in /Users/janavsama/anaconda3/envs/ds3000/lib/python3.12/site-packages (from fastparquet) (24.0)\n",
      "Requirement already satisfied: python-dateutil>=2.8.2 in /Users/janavsama/anaconda3/envs/ds3000/lib/python3.12/site-packages (from pandas>=1.5.0->fastparquet) (2.9.0)\n",
      "Requirement already satisfied: pytz>=2020.1 in /Users/janavsama/anaconda3/envs/ds3000/lib/python3.12/site-packages (from pandas>=1.5.0->fastparquet) (2024.1)\n",
      "Requirement already satisfied: tzdata>=2022.7 in /Users/janavsama/anaconda3/envs/ds3000/lib/python3.12/site-packages (from pandas>=1.5.0->fastparquet) (2024.1)\n",
      "Requirement already satisfied: six>=1.5 in /Users/janavsama/anaconda3/envs/ds3000/lib/python3.12/site-packages (from python-dateutil>=2.8.2->pandas>=1.5.0->fastparquet) (1.16.0)\n"
     ]
    }
   ],
   "source": [
    "#run this cell to install the fast parquet library\n",
    "!pip install fastparquet\n",
    "import pandas as pd\n",
    "import numpy as np\n",
    "import matplotlib.pyplot as plt"
   ]
  },
  {
   "cell_type": "markdown",
   "metadata": {},
   "source": [
    "## 1. Load the data\n",
    "Load the NYC Green Taxi Trip Records data directly from the URL into a data frame called tripdata_df. "
   ]
  },
  {
   "cell_type": "code",
   "execution_count": 2,
   "metadata": {},
   "outputs": [],
   "source": [
    "#let's load the data into a dataframe\n",
    "\n",
    "tripdata_df = pd.read_parquet(path = 'https://d37ci6vzurychx.cloudfront.net/trip-data/green_tripdata_2023-02.parquet', #provide the URL to the data source\n",
    "                      engine = 'fastparquet')\n",
    "\n",
    "#Note: you'll notice two new things. 1) We are using a new function called `read_parquet()` which indicates that we are \n",
    "#      reading data in parquet format. 2) We used the fastparquet library as the engine. \n",
    "#      That's it! Pandas will load the data into a dataframe. You can now use the dataframe for EDA.\n",
    "\n",
    "# Reminder: How does Pandas read other file formats?\n",
    "# 1. Excel files: pd.read_excel()\n",
    "# 2. CSV Files: pd.read_csv()\n",
    "# ... and now you know how to read parquet files using pd.read_parquet()"
   ]
  },
  {
   "cell_type": "markdown",
   "metadata": {},
   "source": [
    "## 2. Inspect the Data (5 pts) \n",
    "Inspect the data and perform the following: \n",
    "1. display the dimensions, and indicate if the variables have suitable types.\n",
    "2. convert all variables to suitable types"
   ]
  },
  {
   "cell_type": "code",
   "execution_count": 3,
   "metadata": {},
   "outputs": [
    {
     "name": "stdout",
     "output_type": "stream",
     "text": [
      "<class 'pandas.core.frame.DataFrame'>\n",
      "RangeIndex: 64809 entries, 0 to 64808\n",
      "Data columns (total 20 columns):\n",
      " #   Column                 Non-Null Count  Dtype         \n",
      "---  ------                 --------------  -----         \n",
      " 0   VendorID               64809 non-null  float64       \n",
      " 1   lpep_pickup_datetime   64809 non-null  datetime64[us]\n",
      " 2   lpep_dropoff_datetime  64809 non-null  datetime64[us]\n",
      " 3   store_and_fwd_flag     59988 non-null  object        \n",
      " 4   RatecodeID             59988 non-null  float64       \n",
      " 5   PULocationID           64809 non-null  float64       \n",
      " 6   DOLocationID           64809 non-null  float64       \n",
      " 7   passenger_count        59988 non-null  float64       \n",
      " 8   trip_distance          64809 non-null  float64       \n",
      " 9   fare_amount            64809 non-null  float64       \n",
      " 10  extra                  64809 non-null  float64       \n",
      " 11  mta_tax                64809 non-null  float64       \n",
      " 12  tip_amount             64809 non-null  float64       \n",
      " 13  tolls_amount           64809 non-null  float64       \n",
      " 14  ehail_fee              0 non-null      float64       \n",
      " 15  improvement_surcharge  64809 non-null  float64       \n",
      " 16  total_amount           64809 non-null  float64       \n",
      " 17  payment_type           59988 non-null  float64       \n",
      " 18  trip_type              59983 non-null  float64       \n",
      " 19  congestion_surcharge   59988 non-null  float64       \n",
      "dtypes: datetime64[us](2), float64(17), object(1)\n",
      "memory usage: 9.9+ MB\n"
     ]
    }
   ],
   "source": [
    "# Displaying dimensions\n",
    "tripdata_df.info()"
   ]
  },
  {
   "cell_type": "code",
   "execution_count": 4,
   "metadata": {},
   "outputs": [],
   "source": [
    "# Converting all variables to suitable types\n",
    "tripdata_df['VendorID'] = tripdata_df['VendorID'].astype('category')\n",
    "tripdata_df['store_and_fwd_flag'] = tripdata_df['store_and_fwd_flag'].astype('category')\n",
    "tripdata_df['RatecodeID'] = tripdata_df['RatecodeID'].astype('category')\n",
    "tripdata_df['PULocationID'] = tripdata_df['PULocationID'].astype('Int64')\n",
    "tripdata_df['DOLocationID'] = tripdata_df['DOLocationID'].astype('Int64')\n",
    "tripdata_df['passenger_count'] = tripdata_df['passenger_count'].astype('Int64')\n",
    "tripdata_df['payment_type'] = tripdata_df['payment_type'].astype('category')\n",
    "tripdata_df['trip_type'] = tripdata_df['trip_type'].astype('category')"
   ]
  },
  {
   "cell_type": "code",
   "execution_count": 5,
   "metadata": {},
   "outputs": [
    {
     "data": {
      "text/plain": [
       "VendorID                       category\n",
       "lpep_pickup_datetime     datetime64[us]\n",
       "lpep_dropoff_datetime    datetime64[us]\n",
       "store_and_fwd_flag             category\n",
       "RatecodeID                     category\n",
       "PULocationID                      Int64\n",
       "DOLocationID                      Int64\n",
       "passenger_count                   Int64\n",
       "trip_distance                   float64\n",
       "fare_amount                     float64\n",
       "extra                           float64\n",
       "mta_tax                         float64\n",
       "tip_amount                      float64\n",
       "tolls_amount                    float64\n",
       "ehail_fee                       float64\n",
       "improvement_surcharge           float64\n",
       "total_amount                    float64\n",
       "payment_type                   category\n",
       "trip_type                      category\n",
       "congestion_surcharge            float64\n",
       "dtype: object"
      ]
     },
     "execution_count": 5,
     "metadata": {},
     "output_type": "execute_result"
    }
   ],
   "source": [
    "# Validating changes\n",
    "tripdata_df.dtypes"
   ]
  },
  {
   "cell_type": "markdown",
   "metadata": {},
   "source": [
    "## 3. Types of Data (2 pts) \n",
    "Are there any categorical data in this dataset. If they exist, demonstrate at least two categorical variables and indicate if they are nominal or ordinal (hint: read the data dictionary above which describes all fields in the data)"
   ]
  },
  {
   "cell_type": "code",
   "execution_count": 6,
   "metadata": {},
   "outputs": [
    {
     "name": "stdout",
     "output_type": "stream",
     "text": [
      "<class 'pandas.core.frame.DataFrame'>\n",
      "RangeIndex: 64809 entries, 0 to 64808\n",
      "Data columns (total 20 columns):\n",
      " #   Column                 Non-Null Count  Dtype         \n",
      "---  ------                 --------------  -----         \n",
      " 0   VendorID               64809 non-null  category      \n",
      " 1   lpep_pickup_datetime   64809 non-null  datetime64[us]\n",
      " 2   lpep_dropoff_datetime  64809 non-null  datetime64[us]\n",
      " 3   store_and_fwd_flag     59988 non-null  category      \n",
      " 4   RatecodeID             59988 non-null  category      \n",
      " 5   PULocationID           64809 non-null  Int64         \n",
      " 6   DOLocationID           64809 non-null  Int64         \n",
      " 7   passenger_count        59988 non-null  Int64         \n",
      " 8   trip_distance          64809 non-null  float64       \n",
      " 9   fare_amount            64809 non-null  float64       \n",
      " 10  extra                  64809 non-null  float64       \n",
      " 11  mta_tax                64809 non-null  float64       \n",
      " 12  tip_amount             64809 non-null  float64       \n",
      " 13  tolls_amount           64809 non-null  float64       \n",
      " 14  ehail_fee              0 non-null      float64       \n",
      " 15  improvement_surcharge  64809 non-null  float64       \n",
      " 16  total_amount           64809 non-null  float64       \n",
      " 17  payment_type           59988 non-null  category      \n",
      " 18  trip_type              59983 non-null  category      \n",
      " 19  congestion_surcharge   59988 non-null  float64       \n",
      "dtypes: Int64(3), category(5), datetime64[us](2), float64(10)\n",
      "memory usage: 7.9 MB\n"
     ]
    }
   ],
   "source": [
    "# Checking for categorical data \n",
    "tripdata_df.info()"
   ]
  },
  {
   "cell_type": "code",
   "execution_count": 7,
   "metadata": {},
   "outputs": [
    {
     "name": "stdout",
     "output_type": "stream",
     "text": [
      "Nominal Data Types:\n",
      "RatecodeID\n",
      "\n",
      "Ordinal Data Types:\n",
      "VendorID\n"
     ]
    }
   ],
   "source": [
    "# Identifying and indicating if they are nominal or ordinal \n",
    "nominal_columns = 'RatecodeID'\n",
    "ordinal_columns = 'VendorID'\n",
    "\n",
    "print(\"Nominal Data Types:\")\n",
    "print(nominal_columns)\n",
    "print(\"\\nOrdinal Data Types:\")\n",
    "print(ordinal_columns)"
   ]
  },
  {
   "cell_type": "markdown",
   "metadata": {},
   "source": [
    "## 4. Missing Values (10 pts) \n",
    "Evaluate the frequency of missing values in the dataset and perform the following:\n",
    "1. explain if missing values are an isolated case or a widespread issue? \n",
    "2. what method would you recommend to handle missing data?\n",
    "3. write the suitable code to handle the missing values."
   ]
  },
  {
   "cell_type": "markdown",
   "metadata": {},
   "source": [
    "Answers\n",
    "\n",
    "1. Missing values seem to be a widespread issue. Some columns do not have a large number of data; and the column \"ehail_fee\" does not have any Non nan values.\n",
    "\n",
    "2. Based on my understanding of the data types, the following can be done:\n",
    "    - Impute the data: this process involves manipulating missing data using techniques, such as: mean, median and modedata from         the rest of the columns.\n",
    "    - Deleting the columns/ empty values: deleting values helps maintain conistency across data given that data is missing on a          wide level.\n"
   ]
  },
  {
   "cell_type": "code",
   "execution_count": 8,
   "metadata": {},
   "outputs": [
    {
     "data": {
      "text/plain": [
       "VendorID                     0\n",
       "lpep_pickup_datetime         0\n",
       "lpep_dropoff_datetime        0\n",
       "store_and_fwd_flag        4821\n",
       "RatecodeID                4821\n",
       "PULocationID                 0\n",
       "DOLocationID                 0\n",
       "passenger_count           4821\n",
       "trip_distance                0\n",
       "fare_amount                  0\n",
       "extra                        0\n",
       "mta_tax                      0\n",
       "tip_amount                   0\n",
       "tolls_amount                 0\n",
       "ehail_fee                64809\n",
       "improvement_surcharge        0\n",
       "total_amount                 0\n",
       "payment_type              4821\n",
       "trip_type                 4826\n",
       "congestion_surcharge      4821\n",
       "dtype: int64"
      ]
     },
     "execution_count": 8,
     "metadata": {},
     "output_type": "execute_result"
    }
   ],
   "source": [
    "# Counting the nan values in the columns\n",
    "tripdata_df.isnull().sum()"
   ]
  },
  {
   "cell_type": "code",
   "execution_count": 9,
   "metadata": {},
   "outputs": [],
   "source": [
    "# Dropping the nan values in the column 'store_and_fwd_flag'\n",
    "tripdata_df['store_and_fwd_flag'].value_counts(dropna=False) \n",
    "tripdata_df = tripdata_df.dropna(subset=['store_and_fwd_flag'])"
   ]
  },
  {
   "cell_type": "code",
   "execution_count": 10,
   "metadata": {},
   "outputs": [
    {
     "data": {
      "text/plain": [
       "VendorID                     0\n",
       "lpep_pickup_datetime         0\n",
       "lpep_dropoff_datetime        0\n",
       "store_and_fwd_flag           0\n",
       "RatecodeID                   0\n",
       "PULocationID                 0\n",
       "DOLocationID                 0\n",
       "passenger_count              0\n",
       "trip_distance                0\n",
       "fare_amount                  0\n",
       "extra                        0\n",
       "mta_tax                      0\n",
       "tip_amount                   0\n",
       "tolls_amount                 0\n",
       "ehail_fee                59988\n",
       "improvement_surcharge        0\n",
       "total_amount                 0\n",
       "payment_type                 0\n",
       "trip_type                    5\n",
       "congestion_surcharge         0\n",
       "dtype: int64"
      ]
     },
     "execution_count": 10,
     "metadata": {},
     "output_type": "execute_result"
    }
   ],
   "source": [
    "# Validating change\n",
    "tripdata_df.isnull().sum()"
   ]
  },
  {
   "cell_type": "code",
   "execution_count": 11,
   "metadata": {},
   "outputs": [],
   "source": [
    "# Deleting the 'ehail_fee' since it does not have any values\n",
    "if 'ehail_fee' in tripdata_df.columns:\n",
    "    tripdata_df.drop(columns='ehail_fee', inplace=True)"
   ]
  },
  {
   "cell_type": "code",
   "execution_count": 12,
   "metadata": {},
   "outputs": [
    {
     "data": {
      "text/plain": [
       "trip_type\n",
       "1.0    58270\n",
       "2.0     1713\n",
       "Name: count, dtype: int64"
      ]
     },
     "execution_count": 12,
     "metadata": {},
     "output_type": "execute_result"
    }
   ],
   "source": [
    "# Dropping the nan values in the column 'trip_type' \n",
    "tripdata_df = tripdata_df.dropna(subset=['trip_type'])\n",
    "tripdata_df['trip_type'].value_counts(dropna=False)"
   ]
  },
  {
   "cell_type": "code",
   "execution_count": 13,
   "metadata": {},
   "outputs": [
    {
     "data": {
      "text/plain": [
       "VendorID                 0\n",
       "lpep_pickup_datetime     0\n",
       "lpep_dropoff_datetime    0\n",
       "store_and_fwd_flag       0\n",
       "RatecodeID               0\n",
       "PULocationID             0\n",
       "DOLocationID             0\n",
       "passenger_count          0\n",
       "trip_distance            0\n",
       "fare_amount              0\n",
       "extra                    0\n",
       "mta_tax                  0\n",
       "tip_amount               0\n",
       "tolls_amount             0\n",
       "improvement_surcharge    0\n",
       "total_amount             0\n",
       "payment_type             0\n",
       "trip_type                0\n",
       "congestion_surcharge     0\n",
       "dtype: int64"
      ]
     },
     "execution_count": 13,
     "metadata": {},
     "output_type": "execute_result"
    }
   ],
   "source": [
    "# Validating change\n",
    "tripdata_df.isnull().sum()"
   ]
  },
  {
   "cell_type": "markdown",
   "metadata": {},
   "source": [
    "## 5. Invalid Data (10 pts) \n",
    "Explore the data to determine if there are any invalid values and perform the following: \n",
    "1. demonstrate at least three issues that you found.\n",
    "2. write suitable code to handle the invalid data that you found."
   ]
  },
  {
   "cell_type": "markdown",
   "metadata": {},
   "source": [
    "The three main issues I've discovered are:\n",
    "\n",
    "1. Missing data: At the beginning (the raw data), there were 7 columns that were empty. Six columns had roughly the same number of missing values. This meant that it was missing during the exact time of entry for all of them, indicating that this could be accidental (the driver forgot to input) or intentional to manipulate or falsify the data. However, this was fixed earlier by removing the \"ehail_fee\" column that had no values at all and removing all the missing values in the rest of the columns to maintain unity.\n",
    "\n",
    "2. Incomprehensive data: Some of the values, like the total amount (total fare amount), had negatives in them. This data does not represent any outcome of the ride and is invaluable for analysis. Such data was found in other columns, such as tip_amount, as well. Tip_amount and total amount could be manipulated if tip is received in cash. One method to prevent this is to remove any duplicates and change the variable types to something that matches the requirements. \n",
    "\n",
    "3. Data bias: If the drivers are being paid in a different format or have incentives to change the data to match the optimal expectations, this may lead to the drivers inputting incorrect or incomprehensive data. This could skew and influence our analysis in the wrong directions. To avoid this, data collectors need to motivate and remind the drivers of the purpose and possible effects the data they input might have. "
   ]
  },
  {
   "cell_type": "code",
   "execution_count": 14,
   "metadata": {},
   "outputs": [],
   "source": [
    "# Ensuring there are no duplicates\n",
    "tripdata_df = tripdata_df.drop_duplicates().copy()"
   ]
  },
  {
   "cell_type": "markdown",
   "metadata": {},
   "source": [
    "<span style='color:red'>**Answer the following questions using the prepared data.**</span>"
   ]
  },
  {
   "cell_type": "markdown",
   "metadata": {},
   "source": [
    "## 6. Data Visualization (10 pts) \n",
    "Create bar charts that show: \n",
    "1. the most common way that New Yorkers request/hail a cab. \n",
    "2. the most common pick-up locations (display the top 5 locations). \n",
    "3. the most common drop-off locations (display the top 5 locations). \n",
    "\n",
    "Explain each chart."
   ]
  },
  {
   "cell_type": "code",
   "execution_count": 15,
   "metadata": {},
   "outputs": [
    {
     "data": {
      "image/png": "[encoded data removed]",
      "text/plain": [
       "<Figure size 640x480 with 1 Axes>"
      ]
     },
     "metadata": {},
     "output_type": "display_data"
    }
   ],
   "source": [
    "# Displaying the most common way New Yorkers start a ride\n",
    "common_pickup = tripdata_df['trip_type'].value_counts().sort_values(ascending=False)\n",
    "common_pickup.plot(kind='bar', xlabel='Trip Type', ylabel='Frequency', title='Common way that New Yorkers request/hail a cab')\n",
    "plt.show()"
   ]
  },
  {
   "cell_type": "markdown",
   "metadata": {},
   "source": [
    "1. Based on chart above, New Yorkers prefer hailing a cab on the spot. Number 1 represents the number of rides that were hail based and Number 2 represents dispatched/summoned rides. "
   ]
  },
  {
   "cell_type": "code",
   "execution_count": 16,
   "metadata": {},
   "outputs": [
    {
     "data": {
      "image/png": "[encoded data removed]",
      "text/plain": [
       "<Figure size 640x480 with 1 Axes>"
      ]
     },
     "metadata": {},
     "output_type": "display_data"
    }
   ],
   "source": [
    "# Displaying the top 5 pick-up locations\n",
    "common_pickup = tripdata_df['PULocationID'].value_counts().sort_values(ascending=False).nlargest(5)\n",
    "common_pickup.plot(kind='bar', xlabel='Pick-up Location ID', ylabel='Frequency', title='Top 5 Common Pick-up Locations')\n",
    "plt.show()"
   ]
  },
  {
   "cell_type": "markdown",
   "metadata": {},
   "source": [
    "2. Common pick-up bar chart represents the number of times a ride was requested at a specific location. Its the TLC Taxi Zone in which the taximeter was engaged. The most common place was ID'd as \"74\", \"75\" and \"41\" "
   ]
  },
  {
   "cell_type": "code",
   "execution_count": 17,
   "metadata": {},
   "outputs": [
    {
     "data": {
      "image/png": "[encoded data removed]",
      "text/plain": [
       "<Figure size 640x480 with 1 Axes>"
      ]
     },
     "metadata": {},
     "output_type": "display_data"
    }
   ],
   "source": [
    "# Displaying the top 5 drop-off locations\n",
    "common_pickup = tripdata_df['DOLocationID'].value_counts().sort_values(ascending=False).nlargest(5)\n",
    "common_pickup.plot(kind='bar', xlabel='Drop-off Location ID', ylabel='Frequency', title='Top 5 Common Drop-off Locations')\n",
    "plt.show()"
   ]
  },
  {
   "cell_type": "markdown",
   "metadata": {},
   "source": [
    "3. Common drop-off bar chart represents the number of times a ride was completed at a specific location. Stands for the TLC Taxi Zone in which the taximeter was disengaged. The most common place was ID'd as \"74\", \"75\" and \"42\". These locations were also the most common pick-up points for the month of February suggesting that most trip were round trips for the drivers/riders. "
   ]
  },
  {
   "cell_type": "markdown",
   "metadata": {},
   "source": [
    "## 7. Data Analysis (10 pts)\n",
    "Write suitable code to answer the following:\n",
    "1. On average, how far do New Yorkers usually travel using these taxis?\n",
    "2. What is the most expensive and least expensive trip? \n",
    "3. What is the minimum, average and maximum **tip amount** for all trips that are 1) under 2 miles and 2) over 2 miles (i.e. >= 2)? \n",
    "\n",
    "Explain the results."
   ]
  },
  {
   "cell_type": "code",
   "execution_count": 18,
   "metadata": {},
   "outputs": [
    {
     "data": {
      "text/plain": [
       "count    59983.000000\n",
       "mean         2.703500\n",
       "std         26.549334\n",
       "min          0.000000\n",
       "25%          1.100000\n",
       "50%          1.800000\n",
       "75%          3.100000\n",
       "max       6470.330000\n",
       "Name: trip_distance, dtype: float64"
      ]
     },
     "execution_count": 18,
     "metadata": {},
     "output_type": "execute_result"
    }
   ],
   "source": [
    "# Displaying basic insights of the column to identify the average\n",
    "tripdata_df['trip_distance'].describe()"
   ]
  },
  {
   "cell_type": "markdown",
   "metadata": {},
   "source": [
    "1. On average, how far do New Yorkers usually travel using these taxis?\n",
    "\n",
    "   2.70 miles. This is understandable since an average New York cab might be expensive to ride in on long distances. Therefore people might prefer taking the subway instead. Prices might have to go down to increase the average."
   ]
  },
  {
   "cell_type": "code",
   "execution_count": 19,
   "metadata": {},
   "outputs": [
    {
     "data": {
      "text/plain": [
       "count    59983.000000\n",
       "mean        21.443479\n",
       "std         14.543921\n",
       "min        -68.000000\n",
       "25%         12.620000\n",
       "50%         17.700000\n",
       "75%         25.750000\n",
       "max        441.000000\n",
       "Name: total_amount, dtype: float64"
      ]
     },
     "execution_count": 19,
     "metadata": {},
     "output_type": "execute_result"
    }
   ],
   "source": [
    "# Displaying basic insights to identify the max and min values of the column\n",
    "tripdata_df['total_amount'].describe()"
   ]
  },
  {
   "cell_type": "markdown",
   "metadata": {},
   "source": [
    "2. What is the most expensive and least expensive trip?\n",
    "\n",
    "   Most expensive: $441.0 \n",
    "   \n",
    "   Least expensive: $0 \n",
    "   \n",
    "   (min is displayed as \"-68\" however since this is not a valid input in this context it can be assumed as $0)\n",
    "\n",
    "   Total cost for the trip is heavily dependent on the total distance traveled. Longer distances tend to have a higher total cost."
   ]
  },
  {
   "cell_type": "code",
   "execution_count": 20,
   "metadata": {},
   "outputs": [
    {
     "name": "stdout",
     "output_type": "stream",
     "text": [
      "Tips for trips under 2 miles:\n",
      "Minimum: -0.9\n",
      "Average: 1.3186187494327977\n",
      "Maximum: 80.0\n",
      "\n",
      "Tips for trips over 2 miles:\n",
      "Minimum: 0.0\n",
      "Average: 3.002086074046232\n",
      "Maximum: 75.82\n"
     ]
    }
   ],
   "source": [
    "# Using conditions and 'describe' to calculate the conditional values\n",
    "under_2_miles = tripdata_df[tripdata_df['trip_distance'] < 2]\n",
    "under_2_miles_stats = under_2_miles['tip_amount'].describe()\n",
    "\n",
    "over_2_miles = tripdata_df[tripdata_df['trip_distance'] > 2]\n",
    "over_2_miles_stats = over_2_miles['tip_amount'].describe()\n",
    "\n",
    "print(\"Tips for trips under 2 miles:\")\n",
    "print(\"Minimum:\", under_2_miles_stats['min'])\n",
    "print(\"Average:\", under_2_miles_stats['mean'])\n",
    "print(\"Maximum:\", under_2_miles_stats['max'])\n",
    "print()\n",
    "print(\"Tips for trips over 2 miles:\")\n",
    "print(\"Minimum:\", over_2_miles_stats['min'])\n",
    "print(\"Average:\", over_2_miles_stats['mean'])\n",
    "print(\"Maximum:\", over_2_miles_stats['max'])"
   ]
  },
  {
   "cell_type": "markdown",
   "metadata": {},
   "source": [
    "3. What is the minimum, average and maximum **tip amount** for all trips that are 1) under 2 miles and 2) over 2 miles (i.e. >= 2)?\n",
    "\n",
    "   This might be an outlier or just a one time thing for the max to be higher for a trip that is under 2 miles since people generally tip more on longer trips. However, excluding that one case, the average seems to be consistent as trips over 2 miles have an average tip of $3 and lower than those with lesser than 2 miles.  "
   ]
  },
  {
   "cell_type": "markdown",
   "metadata": {},
   "source": [
    "## 8. Findings (3 pts)\n",
    "Based on the preliminary analysis, is this data a viable source that can be used by your team in the future to understand how New Yorkers use these taxis? Justify your response."
   ]
  },
  {
   "cell_type": "code",
   "execution_count": 21,
   "metadata": {},
   "outputs": [
    {
     "data": {
      "text/html": [
       "<div>\n",
       "<style scoped>\n",
       "    .dataframe tbody tr th:only-of-type {\n",
       "        vertical-align: middle;\n",
       "    }\n",
       "\n",
       "    .dataframe tbody tr th {\n",
       "        vertical-align: top;\n",
       "    }\n",
       "\n",
       "    .dataframe thead th {\n",
       "        text-align: right;\n",
       "    }\n",
       "</style>\n",
       "<table border=\"1\" class=\"dataframe\">\n",
       "  <thead>\n",
       "    <tr style=\"text-align: right;\">\n",
       "      <th></th>\n",
       "      <th>VendorID</th>\n",
       "      <th>lpep_pickup_datetime</th>\n",
       "      <th>lpep_dropoff_datetime</th>\n",
       "      <th>store_and_fwd_flag</th>\n",
       "      <th>RatecodeID</th>\n",
       "      <th>PULocationID</th>\n",
       "      <th>DOLocationID</th>\n",
       "      <th>passenger_count</th>\n",
       "      <th>trip_distance</th>\n",
       "      <th>fare_amount</th>\n",
       "      <th>extra</th>\n",
       "      <th>mta_tax</th>\n",
       "      <th>tip_amount</th>\n",
       "      <th>tolls_amount</th>\n",
       "      <th>improvement_surcharge</th>\n",
       "      <th>total_amount</th>\n",
       "      <th>payment_type</th>\n",
       "      <th>trip_type</th>\n",
       "      <th>congestion_surcharge</th>\n",
       "    </tr>\n",
       "  </thead>\n",
       "  <tbody>\n",
       "    <tr>\n",
       "      <th>0</th>\n",
       "      <td>1.0</td>\n",
       "      <td>2023-02-01 00:46:22</td>\n",
       "      <td>2023-02-01 01:05:57</td>\n",
       "      <td>N</td>\n",
       "      <td>1.0</td>\n",
       "      <td>74</td>\n",
       "      <td>265</td>\n",
       "      <td>1</td>\n",
       "      <td>10.80</td>\n",
       "      <td>42.9</td>\n",
       "      <td>1.0</td>\n",
       "      <td>1.5</td>\n",
       "      <td>0.00</td>\n",
       "      <td>0.0</td>\n",
       "      <td>1.0</td>\n",
       "      <td>45.40</td>\n",
       "      <td>2.0</td>\n",
       "      <td>1.0</td>\n",
       "      <td>0.00</td>\n",
       "    </tr>\n",
       "    <tr>\n",
       "      <th>1</th>\n",
       "      <td>2.0</td>\n",
       "      <td>2023-02-01 00:05:09</td>\n",
       "      <td>2023-02-01 00:22:42</td>\n",
       "      <td>N</td>\n",
       "      <td>1.0</td>\n",
       "      <td>216</td>\n",
       "      <td>196</td>\n",
       "      <td>1</td>\n",
       "      <td>4.76</td>\n",
       "      <td>23.3</td>\n",
       "      <td>1.0</td>\n",
       "      <td>0.5</td>\n",
       "      <td>0.00</td>\n",
       "      <td>0.0</td>\n",
       "      <td>1.0</td>\n",
       "      <td>25.80</td>\n",
       "      <td>2.0</td>\n",
       "      <td>1.0</td>\n",
       "      <td>0.00</td>\n",
       "    </tr>\n",
       "    <tr>\n",
       "      <th>2</th>\n",
       "      <td>2.0</td>\n",
       "      <td>2023-02-01 00:03:47</td>\n",
       "      <td>2023-02-01 00:27:30</td>\n",
       "      <td>N</td>\n",
       "      <td>1.0</td>\n",
       "      <td>7</td>\n",
       "      <td>114</td>\n",
       "      <td>1</td>\n",
       "      <td>6.32</td>\n",
       "      <td>30.3</td>\n",
       "      <td>1.0</td>\n",
       "      <td>0.5</td>\n",
       "      <td>8.89</td>\n",
       "      <td>0.0</td>\n",
       "      <td>1.0</td>\n",
       "      <td>44.44</td>\n",
       "      <td>1.0</td>\n",
       "      <td>1.0</td>\n",
       "      <td>2.75</td>\n",
       "    </tr>\n",
       "    <tr>\n",
       "      <th>3</th>\n",
       "      <td>2.0</td>\n",
       "      <td>2023-01-31 23:30:56</td>\n",
       "      <td>2023-01-31 23:51:40</td>\n",
       "      <td>N</td>\n",
       "      <td>1.0</td>\n",
       "      <td>74</td>\n",
       "      <td>239</td>\n",
       "      <td>1</td>\n",
       "      <td>3.50</td>\n",
       "      <td>16.3</td>\n",
       "      <td>1.0</td>\n",
       "      <td>0.5</td>\n",
       "      <td>0.00</td>\n",
       "      <td>0.0</td>\n",
       "      <td>1.0</td>\n",
       "      <td>21.55</td>\n",
       "      <td>2.0</td>\n",
       "      <td>1.0</td>\n",
       "      <td>2.75</td>\n",
       "    </tr>\n",
       "    <tr>\n",
       "      <th>4</th>\n",
       "      <td>2.0</td>\n",
       "      <td>2023-02-01 00:15:05</td>\n",
       "      <td>2023-02-01 00:26:02</td>\n",
       "      <td>N</td>\n",
       "      <td>1.0</td>\n",
       "      <td>82</td>\n",
       "      <td>223</td>\n",
       "      <td>1</td>\n",
       "      <td>3.14</td>\n",
       "      <td>17.0</td>\n",
       "      <td>1.0</td>\n",
       "      <td>0.5</td>\n",
       "      <td>0.00</td>\n",
       "      <td>0.0</td>\n",
       "      <td>1.0</td>\n",
       "      <td>19.50</td>\n",
       "      <td>2.0</td>\n",
       "      <td>1.0</td>\n",
       "      <td>0.00</td>\n",
       "    </tr>\n",
       "    <tr>\n",
       "      <th>...</th>\n",
       "      <td>...</td>\n",
       "      <td>...</td>\n",
       "      <td>...</td>\n",
       "      <td>...</td>\n",
       "      <td>...</td>\n",
       "      <td>...</td>\n",
       "      <td>...</td>\n",
       "      <td>...</td>\n",
       "      <td>...</td>\n",
       "      <td>...</td>\n",
       "      <td>...</td>\n",
       "      <td>...</td>\n",
       "      <td>...</td>\n",
       "      <td>...</td>\n",
       "      <td>...</td>\n",
       "      <td>...</td>\n",
       "      <td>...</td>\n",
       "      <td>...</td>\n",
       "      <td>...</td>\n",
       "    </tr>\n",
       "    <tr>\n",
       "      <th>59983</th>\n",
       "      <td>2.0</td>\n",
       "      <td>2023-02-28 23:17:57</td>\n",
       "      <td>2023-02-28 23:24:30</td>\n",
       "      <td>N</td>\n",
       "      <td>1.0</td>\n",
       "      <td>130</td>\n",
       "      <td>215</td>\n",
       "      <td>1</td>\n",
       "      <td>1.45</td>\n",
       "      <td>9.3</td>\n",
       "      <td>1.0</td>\n",
       "      <td>0.5</td>\n",
       "      <td>0.00</td>\n",
       "      <td>0.0</td>\n",
       "      <td>1.0</td>\n",
       "      <td>11.80</td>\n",
       "      <td>1.0</td>\n",
       "      <td>1.0</td>\n",
       "      <td>0.00</td>\n",
       "    </tr>\n",
       "    <tr>\n",
       "      <th>59984</th>\n",
       "      <td>2.0</td>\n",
       "      <td>2023-03-01 00:01:06</td>\n",
       "      <td>2023-03-01 00:03:33</td>\n",
       "      <td>N</td>\n",
       "      <td>1.0</td>\n",
       "      <td>191</td>\n",
       "      <td>122</td>\n",
       "      <td>1</td>\n",
       "      <td>0.78</td>\n",
       "      <td>5.8</td>\n",
       "      <td>1.0</td>\n",
       "      <td>0.5</td>\n",
       "      <td>0.00</td>\n",
       "      <td>0.0</td>\n",
       "      <td>1.0</td>\n",
       "      <td>8.30</td>\n",
       "      <td>2.0</td>\n",
       "      <td>1.0</td>\n",
       "      <td>0.00</td>\n",
       "    </tr>\n",
       "    <tr>\n",
       "      <th>59985</th>\n",
       "      <td>2.0</td>\n",
       "      <td>2023-02-28 23:33:40</td>\n",
       "      <td>2023-02-28 23:42:16</td>\n",
       "      <td>N</td>\n",
       "      <td>1.0</td>\n",
       "      <td>74</td>\n",
       "      <td>24</td>\n",
       "      <td>1</td>\n",
       "      <td>1.50</td>\n",
       "      <td>9.3</td>\n",
       "      <td>1.0</td>\n",
       "      <td>0.5</td>\n",
       "      <td>0.00</td>\n",
       "      <td>0.0</td>\n",
       "      <td>1.0</td>\n",
       "      <td>11.80</td>\n",
       "      <td>2.0</td>\n",
       "      <td>1.0</td>\n",
       "      <td>0.00</td>\n",
       "    </tr>\n",
       "    <tr>\n",
       "      <th>59986</th>\n",
       "      <td>2.0</td>\n",
       "      <td>2023-02-28 23:21:27</td>\n",
       "      <td>2023-02-28 23:36:36</td>\n",
       "      <td>N</td>\n",
       "      <td>1.0</td>\n",
       "      <td>95</td>\n",
       "      <td>258</td>\n",
       "      <td>1</td>\n",
       "      <td>3.01</td>\n",
       "      <td>17.0</td>\n",
       "      <td>1.0</td>\n",
       "      <td>0.5</td>\n",
       "      <td>3.90</td>\n",
       "      <td>0.0</td>\n",
       "      <td>1.0</td>\n",
       "      <td>23.40</td>\n",
       "      <td>1.0</td>\n",
       "      <td>1.0</td>\n",
       "      <td>0.00</td>\n",
       "    </tr>\n",
       "    <tr>\n",
       "      <th>59987</th>\n",
       "      <td>2.0</td>\n",
       "      <td>2023-02-28 23:56:44</td>\n",
       "      <td>2023-03-01 00:02:15</td>\n",
       "      <td>N</td>\n",
       "      <td>5.0</td>\n",
       "      <td>41</td>\n",
       "      <td>41</td>\n",
       "      <td>1</td>\n",
       "      <td>1.02</td>\n",
       "      <td>8.0</td>\n",
       "      <td>0.0</td>\n",
       "      <td>0.0</td>\n",
       "      <td>0.00</td>\n",
       "      <td>0.0</td>\n",
       "      <td>1.0</td>\n",
       "      <td>9.00</td>\n",
       "      <td>2.0</td>\n",
       "      <td>2.0</td>\n",
       "      <td>0.00</td>\n",
       "    </tr>\n",
       "  </tbody>\n",
       "</table>\n",
       "<p>59983 rows × 19 columns</p>\n",
       "</div>"
      ],
      "text/plain": [
       "      VendorID lpep_pickup_datetime lpep_dropoff_datetime store_and_fwd_flag  \\\n",
       "0          1.0  2023-02-01 00:46:22   2023-02-01 01:05:57                  N   \n",
       "1          2.0  2023-02-01 00:05:09   2023-02-01 00:22:42                  N   \n",
       "2          2.0  2023-02-01 00:03:47   2023-02-01 00:27:30                  N   \n",
       "3          2.0  2023-01-31 23:30:56   2023-01-31 23:51:40                  N   \n",
       "4          2.0  2023-02-01 00:15:05   2023-02-01 00:26:02                  N   \n",
       "...        ...                  ...                   ...                ...   \n",
       "59983      2.0  2023-02-28 23:17:57   2023-02-28 23:24:30                  N   \n",
       "59984      2.0  2023-03-01 00:01:06   2023-03-01 00:03:33                  N   \n",
       "59985      2.0  2023-02-28 23:33:40   2023-02-28 23:42:16                  N   \n",
       "59986      2.0  2023-02-28 23:21:27   2023-02-28 23:36:36                  N   \n",
       "59987      2.0  2023-02-28 23:56:44   2023-03-01 00:02:15                  N   \n",
       "\n",
       "      RatecodeID  PULocationID  DOLocationID  passenger_count  trip_distance  \\\n",
       "0            1.0            74           265                1          10.80   \n",
       "1            1.0           216           196                1           4.76   \n",
       "2            1.0             7           114                1           6.32   \n",
       "3            1.0            74           239                1           3.50   \n",
       "4            1.0            82           223                1           3.14   \n",
       "...          ...           ...           ...              ...            ...   \n",
       "59983        1.0           130           215                1           1.45   \n",
       "59984        1.0           191           122                1           0.78   \n",
       "59985        1.0            74            24                1           1.50   \n",
       "59986        1.0            95           258                1           3.01   \n",
       "59987        5.0            41            41                1           1.02   \n",
       "\n",
       "       fare_amount  extra  mta_tax  tip_amount  tolls_amount  \\\n",
       "0             42.9    1.0      1.5        0.00           0.0   \n",
       "1             23.3    1.0      0.5        0.00           0.0   \n",
       "2             30.3    1.0      0.5        8.89           0.0   \n",
       "3             16.3    1.0      0.5        0.00           0.0   \n",
       "4             17.0    1.0      0.5        0.00           0.0   \n",
       "...            ...    ...      ...         ...           ...   \n",
       "59983          9.3    1.0      0.5        0.00           0.0   \n",
       "59984          5.8    1.0      0.5        0.00           0.0   \n",
       "59985          9.3    1.0      0.5        0.00           0.0   \n",
       "59986         17.0    1.0      0.5        3.90           0.0   \n",
       "59987          8.0    0.0      0.0        0.00           0.0   \n",
       "\n",
       "       improvement_surcharge  total_amount payment_type trip_type  \\\n",
       "0                        1.0         45.40          2.0       1.0   \n",
       "1                        1.0         25.80          2.0       1.0   \n",
       "2                        1.0         44.44          1.0       1.0   \n",
       "3                        1.0         21.55          2.0       1.0   \n",
       "4                        1.0         19.50          2.0       1.0   \n",
       "...                      ...           ...          ...       ...   \n",
       "59983                    1.0         11.80          1.0       1.0   \n",
       "59984                    1.0          8.30          2.0       1.0   \n",
       "59985                    1.0         11.80          2.0       1.0   \n",
       "59986                    1.0         23.40          1.0       1.0   \n",
       "59987                    1.0          9.00          2.0       2.0   \n",
       "\n",
       "       congestion_surcharge  \n",
       "0                      0.00  \n",
       "1                      0.00  \n",
       "2                      2.75  \n",
       "3                      2.75  \n",
       "4                      0.00  \n",
       "...                     ...  \n",
       "59983                  0.00  \n",
       "59984                  0.00  \n",
       "59985                  0.00  \n",
       "59986                  0.00  \n",
       "59987                  0.00  \n",
       "\n",
       "[59983 rows x 19 columns]"
      ]
     },
     "execution_count": 21,
     "metadata": {},
     "output_type": "execute_result"
    }
   ],
   "source": [
    "# Taking a look at the final, cleaned Dataframe to analyze data\n",
    "tripdata_df"
   ]
  },
  {
   "cell_type": "markdown",
   "metadata": {},
   "source": [
    "Based on the preliminary analysis of the provided data, there are several factors to consider in determining whether it is a viable source for understanding how New Yorkers use taxis:\n",
    "\n",
    "Data Completeness: The dataset seems relatively complete, with columns for key variables such as pickup and dropoff times, trip distances, fare amounts, passenger counts, and payment types. This completeness is crucial for any analysis.\n",
    "\n",
    "Data Consistency: The consistency of the data is important to ensure its reliability. This includes consistency in formatting, data types, and any potential outliers or anomalies. So far, this has been accomplished on a preliminary level. Further exploration is needed to verify consistency across the dataset.\n",
    "\n",
    "Representativeness: To be useful for understanding how New Yorkers use taxis, the dataset needs to be representative of taxi usage patterns in the city. This would require a large and diverse sample of trips across different times and locations throughout the city. \n",
    "\n",
    "Data Quality: The quality of the data is essential. This includes accuracy, reliability, and the absence of errors or biases. Most of the cleaning and data manipulation have helped make the data ready for analysis.\n",
    "\n",
    "Scope: The dataset appears to cover taxi trips in New York City over a period of time. However, the specific time range and geographical coverage may not be sufficient for comprehensive analysis; expanding the time line and the range of taxis might help us give a clearer picture. \n",
    "\n",
    "In summary, while the preliminary analysis suggests that the dataset contains relevant information for understanding taxi usage in New York City, further examination is necessary to determine its viability."
   ]
  },
  {
   "cell_type": "markdown",
   "metadata": {},
   "source": [
    "## Citations:\n",
    "\n",
    "- “How to Convert Dtype=‘Datetime64[Ns]’ to Float?” Stack Overflow, stackoverflow.com/questions/68441559/how-to-convert-dtype-datetime64ns-to-float. Accessed 13 May 2024.\n",
    "\n",
    "- “Pandas.DataFrame.nlargest — Pandas 1.1.4 Documentation.” Pandas.pydata.org, pandas.pydata.org/pandas-docs/stable/reference/api/pandas.DataFrame.nlargest.html. Accessed 13 May 2024.\n",
    "\n",
    "- “About TLC - TLC.” Nyc.gov, 2018, www1.nyc.gov/site/tlc/about/tlc-trip-record-data.page. Accessed 13 May 2024."
   ]
  }
 ],
 "metadata": {
  "kernelspec": {
   "display_name": "Python 3 (ipykernel)",
   "language": "python",
   "name": "python3"
  },
  "language_info": {
   "codemirror_mode": {
    "name": "ipython",
    "version": 3
   },
   "file_extension": ".py",
   "mimetype": "text/x-python",
   "name": "python",
   "nbconvert_exporter": "python",
   "pygments_lexer": "ipython3",
   "version": "3.12.3"
  }
 },
 "nbformat": 4,
 "nbformat_minor": 4
}
